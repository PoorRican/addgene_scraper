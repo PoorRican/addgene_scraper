{
 "cells": [
  {
   "cell_type": "markdown",
   "source": [
    "The purpose of this notebook is to explore how to parse data from AddGene.\n",
    "\n",
    "As of now, the following attributes are desired for all plasmids:\n",
    "- [X] name (str)\n",
    "- [X] plasmid id # (int)\n",
    "- [X] purpose (str)\n",
    "- [X] publication (str)\n",
    "- [X] sequence information (link to GenBank file)\n",
    "- [ ] vector backbone name (str)\n",
    "- [ ] vector backbone url (str)\n",
    "- [ ] vector type (str[])\n",
    "- [ ] tag/fusion protein (str[])\n",
    "- [ ] bacterial resistance(s) (str[] for now)\n",
    "- [ ] growth temp (str for now)\n",
    "- [ ] growth strain(s) (str)\n",
    "- [ ] copy number (str)\n",
    "- [ ] gene/insert name (str)"
   ],
   "metadata": {
    "collapsed": false
   },
   "id": "6a39716bf4c14300"
  },
  {
   "cell_type": "markdown",
   "source": [
    "# Config bs4"
   ],
   "metadata": {
    "collapsed": false
   },
   "id": "d0fe2b501ac98408"
  },
  {
   "cell_type": "code",
   "execution_count": 77,
   "id": "initial_id",
   "metadata": {
    "collapsed": true,
    "ExecuteTime": {
     "end_time": "2023-08-06T00:59:32.972600Z",
     "start_time": "2023-08-06T00:59:32.943131Z"
    }
   },
   "outputs": [],
   "source": [
    "from bs4 import BeautifulSoup, Tag, NavigableString\n",
    "from requests import get"
   ]
  },
  {
   "cell_type": "markdown",
   "source": [
    "This `dict` will be used to store all plasmid data"
   ],
   "metadata": {
    "collapsed": false
   },
   "id": "4c3812f7c59f41b6"
  },
  {
   "cell_type": "code",
   "execution_count": 5,
   "outputs": [],
   "source": [
    "plasmid_data = {}"
   ],
   "metadata": {
    "collapsed": false,
    "ExecuteTime": {
     "end_time": "2023-08-05T20:33:18.372154Z",
     "start_time": "2023-08-05T20:33:18.354285Z"
    }
   },
   "id": "77459e00a03897c8"
  },
  {
   "cell_type": "code",
   "execution_count": 43,
   "outputs": [],
   "source": [
    "# id for \"pBABE puro EGFP\"\n",
    "plasmid_id = 128041\n",
    "\n",
    "def addgene_url(plasmid_id: int) -> str:\n",
    "    return f'https://www.addgene.org/{plasmid_id}/'\n",
    "\n",
    "url = addgene_url(plasmid_id)"
   ],
   "metadata": {
    "collapsed": false,
    "ExecuteTime": {
     "end_time": "2023-08-06T00:23:58.950983Z",
     "start_time": "2023-08-06T00:23:58.945521Z"
    }
   },
   "id": "98a6085c891ecb0a"
  },
  {
   "cell_type": "code",
   "execution_count": 7,
   "outputs": [],
   "source": [
    "page = get(url)"
   ],
   "metadata": {
    "collapsed": false,
    "ExecuteTime": {
     "end_time": "2023-08-05T20:33:22.895487Z",
     "start_time": "2023-08-05T20:33:18.368182Z"
    }
   },
   "id": "c63cbe84b54e065f"
  },
  {
   "cell_type": "code",
   "execution_count": 8,
   "outputs": [],
   "source": [
    "page = BeautifulSoup(page.text, 'html.parser')"
   ],
   "metadata": {
    "collapsed": false,
    "ExecuteTime": {
     "end_time": "2023-08-05T20:33:22.947279Z",
     "start_time": "2023-08-05T20:33:22.899685Z"
    }
   },
   "id": "322bc4b01aad0116"
  },
  {
   "cell_type": "markdown",
   "source": [
    "This seems to be the selector to get the element that contains most if not all of the plasmid data"
   ],
   "metadata": {
    "collapsed": false
   },
   "id": "ddad5ac9aac44c45"
  },
  {
   "cell_type": "code",
   "execution_count": 9,
   "outputs": [],
   "source": [
    "raw_plasmid_info = page.find_all('section', 'addgene-panel-catalog-item')"
   ],
   "metadata": {
    "collapsed": false,
    "ExecuteTime": {
     "end_time": "2023-08-05T20:33:22.963333Z",
     "start_time": "2023-08-05T20:33:22.949992Z"
    }
   },
   "id": "eb7ffdf8228f0926"
  },
  {
   "cell_type": "code",
   "execution_count": 10,
   "outputs": [],
   "source": [
    "raw_plasmid_info = raw_plasmid_info[0]"
   ],
   "metadata": {
    "collapsed": false,
    "ExecuteTime": {
     "end_time": "2023-08-05T20:33:22.964024Z",
     "start_time": "2023-08-05T20:33:22.957012Z"
    }
   },
   "id": "cc42e95f0ec05719"
  },
  {
   "cell_type": "markdown",
   "source": [
    "### Entire Page"
   ],
   "metadata": {
    "collapsed": false
   },
   "id": "396b953ee1d768a2"
  },
  {
   "cell_type": "code",
   "execution_count": 11,
   "outputs": [
    {
     "name": "stdout",
     "output_type": "stream",
     "text": [
      "<section class=\"panel panel-default addgene-panel-catalog-item addgene-panel-plasmid-item\">\n",
      "<div class=\"panel-heading\">\n",
      "<div class=\"row row-vertically-centered\">\n",
      "<div id=\"plasmid-flame-container\">\n",
      "<span class=\"addgene-flame-with-popover addgene-flame addgene-flame-medium\" data-click-away=\"true\" data-toggle=\"popover\"></span>\n",
      "</div>\n",
      "<h1>\n",
      "<span class=\"material-name\"> pBABE puro EGFP </span>\n",
      "<br/>\n",
      "<small>\n",
      "                          (Plasmid\n",
      "                          \n",
      "                          #<span id=\"addgene-item-id\">128041</span>)\n",
      "                        </small>\n",
      "</h1>\n",
      "<div class=\"text-right\" id=\"print-link-container\">\n",
      "<a class=\"print-link\" href=\"javascript:window.print();\">\n",
      "<span class=\"glyphicon glyphicon-print\"></span>\n",
      "                            \n",
      "                             Print\n",
      "                        </a>\n",
      "</div>\n",
      "</div>\n",
      "</div>\n",
      "<div class=\"panel-body\">\n",
      "<div class=\"material-properties\">\n",
      "<!-- Top section, images and basic data -->\n",
      "<div class=\"row\" id=\"top-section\">\n",
      "<div class=\"col-xs-6\" id=\"maps-container\">\n",
      "<div class=\"text-center\" id=\"plasmid-sequence-maps\">\n",
      "<!-- full map images -->\n",
      "<div class=\"tab-content\">\n",
      "<div class=\"tab-pane active\" id=\"tab-snapgene-254994\">\n",
      "<!-- tab SnapGene panel -->\n",
      "<div data-remote=\"false\" data-target=\"#modal-snapgene-254994\" data-toggle=\"modal\">\n",
      "<img alt=\"254994_map\" id=\"tab-snapgene-png-254994\" src=\"https://media.addgene.org/snapgene-media/v1.7.9-0-g88a3305/sequences/254994/508acc8c-7d0f-4ca5-9f19-6f41a8e215a1/addgene-plasmid-128041-sequence-254994-map.png\" style=\"max-width: 325px; max-height: 205px;\n",
      "                 \n",
      "                 \"/>\n",
      "</div>\n",
      "<!-- large SnapGene modal -->\n",
      "<ul class=\"addgene-nav-list text-center\">\n",
      "<li>\n",
      "<a data-target=\"#modal-snapgene-254994\" data-toggle=\"modal\" href=\"javascript:{};\">\n",
      "                        Enlarge\n",
      "                    </a>\n",
      "</li>\n",
      "<li><a class=\"\" href=\"/128041/sequences/\">View all sequences</a></li>\n",
      "</ul>\n",
      "</div>\n",
      "<!-- Uploaded Image Maps. -->\n",
      "<!-- Simple Giraffe map if no full sequence or user uploaded map -->\n",
      "</div>\n",
      "<!-- end full map images -->\n",
      "<!-- end map nav thumbnails -->\n",
      "</div>\n",
      "</div>\n",
      "<!-- Right-hand Description Column -->\n",
      "<div class=\"col-xs-6\" id=\"description-container\">\n",
      "<ul class=\"list-unstyled\" id=\"plasmid-description-list\">\n",
      "<li>\n",
      "<div class=\"field\">\n",
      "<div class=\"field-label\">Purpose</div>\n",
      "<div class=\"field-content\">\n",
      "<strong>(Empty Backbone)</strong>\n",
      "                            \n",
      "                            Retroviral vector with N terminal EGFP\n",
      "                        </div>\n",
      "</div>\n",
      "</li>\n",
      "<li>\n",
      "<div class=\"field\">\n",
      "<div class=\"field-label\">Depositing Lab</div>\n",
      "<div class=\"field-content\">\n",
      "<a href=\"/browse/pi/4513/\">\n",
      "                                Oskar Laur</a>\n",
      "</div>\n",
      "</div>\n",
      "</li>\n",
      "<li>\n",
      "<div class=\"field\">\n",
      "<div class=\"field-label\">Publication</div>\n",
      "<div class=\"field-content\">\n",
      "<a href=\"/browse/article/28203582/\">\n",
      "                            \n",
      "\n",
      "                            \n",
      "                                Emory Custom Cloning Core Plasmids - Oskar Laur (unpublished)\n",
      "                            \n",
      "\n",
      "                            \n",
      "                            </a>\n",
      "<span>\n",
      "<small>\n",
      "                                    ( <a href=\"#how-to-cite\">How to cite <span class=\"glyphicon glyphicon-arrow-down\"></span></a>)\n",
      "                                </small>\n",
      "</span>\n",
      "</div>\n",
      "</div>\n",
      "</li>\n",
      "<li>\n",
      "<div class=\"field\">\n",
      "<div class=\"field-label\">Sequence Information</div>\n",
      "<ul class=\"list-unstyled\">\n",
      "<li class=\"field\">\n",
      "<div id=\"sequence_information\">\n",
      "<a href=\"/128041/sequences/\">\n",
      "                                        Sequences (1)\n",
      "                                      </a>\n",
      "</div>\n",
      "</li>\n",
      "</ul>\n",
      "</div>\n",
      "</li>\n",
      "</ul>\n",
      "</div>\n",
      "</div>\n",
      "<!-- Fields -->\n",
      "<div class=\"row\" id=\"detail-sections\">\n",
      "<div class=\"col-xs-12\">\n",
      "<section>\n",
      "<h2><span class=\"title\">Ordering</span></h2>\n",
      "<table class=\"add-to-cart-table table-striped table-condensed\" id=\"ordering-table\">\n",
      "<thead>\n",
      "<tr>\n",
      "<th>Item</th>\n",
      "<th>Catalog #</th>\n",
      "<th>Description</th>\n",
      "<th>Quantity</th>\n",
      "<th colspan=\"2\">Price (USD)</th>\n",
      "</tr>\n",
      "</thead>\n",
      "<tbody>\n",
      "<tr id=\"row-128041\">\n",
      "<td style=\"width: 7em;\">Plasmid</td>\n",
      "<td style=\"width: 7em;\">128041</td>\n",
      "<td>\n",
      "<span id=\"format-details-128041\"> Standard format: Plasmid sent in bacteria as agar stab </span>\n",
      "</td>\n",
      "<td class=\"text-center\" style=\"width: 5.25em;\">\n",
      "<span data-add-to-cart-quantity=\"1\" data-item-id=\"128041\">1</span>\n",
      "</td>\n",
      "<td class=\"text-left price-cell\" style=\"width: 5em;\">\n",
      "                \n",
      "                \n",
      "                \n",
      "                $<span data-item-id=\"128041\" data-marginal-price=\"\" data-marginal-price-item-data='{\"itemId\": \"128041\", \"bulkGroup\": \"1\", \"unitPrices\": [{\"minQuantity\": 1, \"bulkUnitPrice\": 85.0}, {\"minQuantity\": 6, \"bulkUnitPrice\": 85.0}, {\"minQuantity\": 21, \"bulkUnitPrice\": 85.0}], \"rider\": null}' id=\"marginal-price-128041\">85</span>\n",
      "</td>\n",
      "<td class=\"text-center\" id=\"add-to-cart-128041\" style=\"width: 6em;\">\n",
      "<!-- status: NO_USER_ACA_ITEM -->\n",
      "<div class=\"addgene-addtocart js-addtocart atc-popover atc-mini-popover\">\n",
      "<a class=\"btn btn-md btn-addgene-yellow btn-add-to-cart\" href=\"/users/login/?next=/128041/\" id=\"add-to-cart-link-128041\">\n",
      "        Add to Cart\n",
      "    </a>\n",
      "</div>\n",
      "</td>\n",
      "</tr>\n",
      "</tbody>\n",
      "</table>\n",
      "<p class=\"text-right\">\n",
      "<small>\n",
      "          This material is available to academics and nonprofits only.\n",
      "      </small>\n",
      "</p>\n",
      "</section>\n",
      "</div>\n",
      "<div class=\"col-xs-6\">\n",
      "<section>\n",
      "<h2><span class=\"title\">Backbone</span></h2>\n",
      "<ul class=\"list-unstyled\">\n",
      "<li class=\"field\">\n",
      "<div class=\"field-label\">Vector backbone</div>\n",
      "                        \n",
      "                        pBABE puro\n",
      "                        \n",
      "                        <div style=\"clear: left;\">\n",
      "<a href=\"/vector-database/query/?q_vdb=pBABE%20puro\" rel=\"noopener noreferrer\" target=\"_blank\"><span class=\"glyphicon glyphicon-new-window\"></span> (Search Vector Database)</a>\n",
      "</div>\n",
      "</li>\n",
      "<li class=\"field\">\n",
      "<div class=\"field-label\">Vector type</div>\n",
      "                        Mammalian Expression, Retroviral\n",
      "                    </li>\n",
      "<li class=\"field\">\n",
      "<span class=\"field-label\">\n",
      "        Tag\n",
      "        / Fusion Protein</span>\n",
      "<ul class=\"addgene-document-list\">\n",
      "<li>EGFP (N terminal on backbone)</li>\n",
      "</ul>\n",
      "</li>\n",
      "</ul>\n",
      "</section>\n",
      "<section>\n",
      "<h2><span class=\"title\">Growth in Bacteria</span></h2>\n",
      "<ul class=\"list-unstyled\">\n",
      "<li class=\"field\">\n",
      "<div class=\"field-label\">Bacterial Resistance(s)</div>\n",
      "                        Ampicillin, 100 μg/mL\n",
      "                    </li>\n",
      "<li class=\"field\" id=\"growth_temp_128041\">\n",
      "<div class=\"field-label\">Growth Temperature</div>\n",
      "                        37°C\n",
      "                    </li>\n",
      "<li class=\"field\">\n",
      "<div class=\"field-label\">Growth Strain(s)</div>\n",
      "                        NEB Stable\n",
      "                    </li>\n",
      "<li class=\"field\">\n",
      "<div class=\"field-label\">Copy number</div>\n",
      "                        High Copy\n",
      "                    </li>\n",
      "</ul>\n",
      "</section>\n",
      "</div>\n",
      "<div class=\"col-xs-6\">\n",
      "<section>\n",
      "<h2>\n",
      "<span class=\"title\">\n",
      "                        Gene/Insert\n",
      "                        \n",
      "                        \n",
      "                    </span>\n",
      "</h2>\n",
      "<ul class=\"list-unstyled\">\n",
      "<li class=\"field\">\n",
      "<div class=\"field-label\">Gene/Insert name</div>\n",
      "                        \n",
      "                        None\n",
      "                    </li>\n",
      "<li class=\"field\">\n",
      "<span class=\"field-label\">\n",
      "        Tag\n",
      "        / Fusion Protein</span>\n",
      "<ul class=\"addgene-document-list\">\n",
      "<li>EGFP (N terminal on backbone)</li>\n",
      "</ul>\n",
      "</li>\n",
      "</ul>\n",
      "</section>\n",
      "<section id=\"resource-information\">\n",
      "<h2><span class=\"title\">Resource Information</span></h2>\n",
      "<ul class=\"list-unstyled bottom-spacing-2\">\n",
      "<li class=\"field\">\n",
      "<div class=\"field-label\">Article Citing this Plasmid</div>\n",
      "<ul class=\"addgene-document-list\">\n",
      "<li><a href=\"/128041/citations/\">1 Reference</a></li>\n",
      "</ul>\n",
      "</li>\n",
      "</ul>\n",
      "</section>\n",
      "<section id=\"terms-and-licenses-section\">\n",
      "<h2><span class=\"title\">Terms and Licenses</span></h2>\n",
      "<ul class=\"list-unstyled\">\n",
      "<li class=\"field\">\n",
      "<div class=\"field-label\">Academic/Nonprofit Terms</div>\n",
      "<ul class=\"addgene-document-list\">\n",
      "<li><a href=\"/agreement/1/\">UBMTA</a></li>\n",
      "<li><a href=\"/terms/1099/\">Ancillary Agreement for Plasmids Containing FP Materials</a></li>\n",
      "</ul>\n",
      "</li>\n",
      "<li class=\"field\">\n",
      "<div class=\"field-label\">Industry Terms</div>\n",
      "<ul class=\"addgene-document-list\">\n",
      "<li>Not Available to Industry</li>\n",
      "</ul>\n",
      "</li>\n",
      "</ul>\n",
      "<div class=\"flatblock flatblock-third-party-trademarks\">\n",
      "<div class=\"flatblock-content\">\n",
      "<h5>Trademarks:</h5>\n",
      "<ul class=\"addgene-document-list\">\n",
      "<li>Zeocin® is an InvivoGen trademark.</li>\n",
      "</ul>\n",
      "</div>\n",
      "</div>\n",
      "</section>\n",
      "</div>\n",
      "</div>\n",
      "</div>\n",
      "</div>\n",
      "</section>\n"
     ]
    }
   ],
   "source": [
    "\n",
    "print(raw_plasmid_info)"
   ],
   "metadata": {
    "collapsed": false,
    "ExecuteTime": {
     "end_time": "2023-08-05T20:33:23.027320Z",
     "start_time": "2023-08-05T20:33:22.966350Z"
    }
   },
   "id": "2b7638b05cd23d71"
  },
  {
   "cell_type": "markdown",
   "source": [
    "Now that we found the `section` with plasmid data, let's start clean it, then begin extracting data."
   ],
   "metadata": {
    "collapsed": false
   },
   "id": "ad3c10d2b2dbd61a"
  },
  {
   "cell_type": "code",
   "execution_count": 112,
   "outputs": [],
   "source": [
    "# strip whitespace\n",
    "cleaned = [i.strip() for i in str(raw_plasmid_info).split('\\n')]\n",
    "cleaned = \"\".join(cleaned)\n",
    "raw_plasmid_info = BeautifulSoup(cleaned)"
   ],
   "metadata": {
    "collapsed": false,
    "ExecuteTime": {
     "end_time": "2023-08-06T02:03:15.943108Z",
     "start_time": "2023-08-06T02:03:15.933753Z"
    }
   },
   "id": "1b763aca1a1acc91"
  },
  {
   "cell_type": "code",
   "execution_count": 13,
   "outputs": [],
   "source": [
    "with open(f'{plasmid_id}.html', 'w') as f:\n",
    "    f.write(str(raw_plasmid_info))"
   ],
   "metadata": {
    "collapsed": false,
    "ExecuteTime": {
     "end_time": "2023-08-05T20:33:36.962472Z",
     "start_time": "2023-08-05T20:33:36.939901Z"
    }
   },
   "id": "9b01240dfb8a1921"
  },
  {
   "cell_type": "code",
   "execution_count": 69,
   "outputs": [
    {
     "data": {
      "text/plain": "' pBABE puro EGFP '"
     },
     "execution_count": 69,
     "metadata": {},
     "output_type": "execute_result"
    }
   ],
   "source": [
    "# plasmid name\n",
    "plasmid_data['name'] = raw_plasmid_info.find(attrs={'class': 'material-name'}).contents[0]"
   ],
   "metadata": {
    "collapsed": false,
    "ExecuteTime": {
     "end_time": "2023-08-02T14:32:30.033427Z",
     "start_time": "2023-08-02T14:32:30.021411Z"
    }
   },
   "id": "fab33a4f06088574"
  },
  {
   "cell_type": "code",
   "execution_count": 79,
   "outputs": [],
   "source": [
    "# addgene plasmid id\n",
    "plasmid_data['id'] = int(raw_plasmid_info.find(attrs={'id': 'addgene-item-id'}).contents[0])"
   ],
   "metadata": {
    "collapsed": false,
    "ExecuteTime": {
     "end_time": "2023-08-02T14:35:39.795741Z",
     "start_time": "2023-08-02T14:35:39.789279Z"
    }
   },
   "id": "70ab86856665f8e8"
  },
  {
   "cell_type": "markdown",
   "source": [
    "## Extracting desc\n",
    "Extracting the purpose and sequences will be a little more involved"
   ],
   "metadata": {
    "collapsed": false
   },
   "id": "2f2636f07baf7e67"
  },
  {
   "cell_type": "code",
   "execution_count": 118,
   "outputs": [],
   "source": [
    "plasmid_desc = raw_plasmid_info.find(attrs={'id': 'plasmid-description-list'})"
   ],
   "metadata": {
    "collapsed": false,
    "ExecuteTime": {
     "end_time": "2023-08-06T02:18:06.977387Z",
     "start_time": "2023-08-06T02:18:06.955089Z"
    }
   },
   "id": "da2953a96ab690eb"
  },
  {
   "cell_type": "code",
   "execution_count": 125,
   "outputs": [],
   "source": [
    "def extract_field_content(desc, string: str):\n",
    "    items = desc.find_all('li')\n",
    "    for i in items:\n",
    "        if i.find(string=string):\n",
    "            return i.find(attrs={'class': 'field-content'}).contents\n"
   ],
   "metadata": {
    "collapsed": false,
    "ExecuteTime": {
     "end_time": "2023-08-03T03:28:36.680826Z",
     "start_time": "2023-08-03T03:28:36.671270Z"
    }
   },
   "id": "1fa94549b0f204ad"
  },
  {
   "cell_type": "code",
   "execution_count": 126,
   "outputs": [
    {
     "data": {
      "text/plain": "['\\n',\n <strong>(Empty Backbone)</strong>,\n '\\n                            \\n                            Retroviral vector with N terminal EGFP\\n                        ']"
     },
     "execution_count": 126,
     "metadata": {},
     "output_type": "execute_result"
    }
   ],
   "source": [
    "extract_field_content(plasmid_desc, \"Purpose\")"
   ],
   "metadata": {
    "collapsed": false,
    "ExecuteTime": {
     "end_time": "2023-08-03T03:28:37.203160Z",
     "start_time": "2023-08-03T03:28:37.192777Z"
    }
   },
   "id": "f9aa70eac01aa269"
  },
  {
   "cell_type": "markdown",
   "source": [
    "In order to get string, just concatenate all tag contents\n",
    "\n",
    "Also, there needs to be a helper function that removes all empty strings"
   ],
   "metadata": {
    "collapsed": false
   },
   "id": "253462bb024be958"
  },
  {
   "cell_type": "code",
   "execution_count": 127,
   "outputs": [],
   "source": [
    "def get_strings(arr: []) -> []:\n",
    "    extracted = []\n",
    "    for i in arr:\n",
    "        extracted.append(i.get_text())\n",
    "        \n",
    "    cleaned = []\n",
    "    for i in extracted:\n",
    "        stripped = i.strip()\n",
    "        if len(stripped):\n",
    "            cleaned.append(stripped)\n",
    "    return cleaned"
   ],
   "metadata": {
    "collapsed": false,
    "ExecuteTime": {
     "end_time": "2023-08-03T03:28:40.495047Z",
     "start_time": "2023-08-03T03:28:40.485565Z"
    }
   },
   "id": "3133d0d45a2e115e"
  },
  {
   "cell_type": "code",
   "execution_count": 129,
   "outputs": [],
   "source": [
    "plasmid_data['purpose'] = ' '.join(get_strings(extract_field_content(plasmid_desc, \"Purpose\")))"
   ],
   "metadata": {
    "collapsed": false,
    "ExecuteTime": {
     "end_time": "2023-08-03T03:29:43.007927Z",
     "start_time": "2023-08-03T03:29:42.989229Z"
    }
   },
   "id": "aa5d6897eea9b91e"
  },
  {
   "cell_type": "code",
   "execution_count": 131,
   "outputs": [
    {
     "data": {
      "text/plain": "{'name': ' pBABE puro EGFP ',\n 'id': 128041,\n 'purpose': '(Empty Backbone) Retroviral vector with N terminal EGFP'}"
     },
     "execution_count": 131,
     "metadata": {},
     "output_type": "execute_result"
    }
   ],
   "source": [
    "plasmid_data"
   ],
   "metadata": {
    "collapsed": false,
    "ExecuteTime": {
     "end_time": "2023-08-03T03:29:58.683922Z",
     "start_time": "2023-08-03T03:29:58.672120Z"
    }
   },
   "id": "a959c17692686cb8"
  },
  {
   "cell_type": "code",
   "execution_count": 132,
   "outputs": [
    {
     "data": {
      "text/plain": "['\\n',\n <a href=\"/browse/article/28203582/\">\n                             \n \n                             \n                                 Emory Custom Cloning Core Plasmids - Oskar Laur (unpublished)\n                             \n \n                             \n                             </a>,\n '\\n',\n <span>\n <small>\n                                     ( <a href=\"#how-to-cite\">How to cite <span class=\"glyphicon glyphicon-arrow-down\"></span></a>)\n                                 </small>\n </span>,\n '\\n']"
     },
     "execution_count": 132,
     "metadata": {},
     "output_type": "execute_result"
    }
   ],
   "source": [
    "extract_field_content(plasmid_desc, \"Publication\")"
   ],
   "metadata": {
    "collapsed": false,
    "ExecuteTime": {
     "end_time": "2023-08-03T03:35:45.608037Z",
     "start_time": "2023-08-03T03:35:45.470887Z"
    }
   },
   "id": "e06a801614e9f279"
  },
  {
   "cell_type": "code",
   "execution_count": 166,
   "outputs": [],
   "source": [
    "def get_link(desc, string: str) -> str:\n",
    "    for i in extract_field_content(desc, string):\n",
    "        if type(i) == Tag:\n",
    "            if 'href' in i.attrs:\n",
    "                return i['href']"
   ],
   "metadata": {
    "collapsed": false,
    "ExecuteTime": {
     "end_time": "2023-08-03T04:21:25.009139Z",
     "start_time": "2023-08-03T04:21:24.986706Z"
    }
   },
   "id": "6d69dbe7110d1eab"
  },
  {
   "cell_type": "code",
   "execution_count": 173,
   "outputs": [],
   "source": [
    "plasmid_data['publication_link'] = get_link(plasmid_desc, \"Publication\")"
   ],
   "metadata": {
    "collapsed": false,
    "ExecuteTime": {
     "end_time": "2023-08-03T04:24:51.368809Z",
     "start_time": "2023-08-03T04:24:51.334806Z"
    }
   },
   "id": "e41ca3557ff6349b"
  },
  {
   "cell_type": "markdown",
   "source": [
    "### Get link to sequence page"
   ],
   "metadata": {
    "collapsed": false
   },
   "id": "b742ce1dd00ebde3"
  },
  {
   "cell_type": "code",
   "execution_count": 172,
   "outputs": [
    {
     "data": {
      "text/plain": "'/128041/sequences/'"
     },
     "execution_count": 172,
     "metadata": {},
     "output_type": "execute_result"
    }
   ],
   "source": [
    "plasmid_data['sequence_link'] = plasmid_desc.find(attrs={'id': 'sequence_information'}).a.attrs['href']"
   ],
   "metadata": {
    "collapsed": false,
    "ExecuteTime": {
     "end_time": "2023-08-03T04:24:09.354603Z",
     "start_time": "2023-08-03T04:24:09.327294Z"
    }
   },
   "id": "a9d5f64dd0413940"
  },
  {
   "cell_type": "markdown",
   "source": [
    "## Extracting details"
   ],
   "metadata": {
    "collapsed": false
   },
   "id": "c44a5f80a1962c6f"
  },
  {
   "cell_type": "code",
   "execution_count": 113,
   "outputs": [],
   "source": [
    "plasmid_details = raw_plasmid_info.find(attrs={'id': 'detail-sections'})"
   ],
   "metadata": {
    "collapsed": false,
    "ExecuteTime": {
     "end_time": "2023-08-06T02:03:29.956338Z",
     "start_time": "2023-08-06T02:03:29.914126Z"
    }
   },
   "id": "4adcf1ede00d0d7f"
  },
  {
   "cell_type": "markdown",
   "source": [
    "### Vector Backbone"
   ],
   "metadata": {
    "collapsed": false
   },
   "id": "825d501a5f050ac0"
  },
  {
   "cell_type": "code",
   "execution_count": 42,
   "outputs": [],
   "source": [
    "with open(f'{plasmid_id}_details.html', 'w') as f:\n",
    "    f.write(str(plasmid_details))"
   ],
   "metadata": {
    "collapsed": false,
    "ExecuteTime": {
     "end_time": "2023-08-06T00:22:33.567129Z",
     "start_time": "2023-08-06T00:22:33.551239Z"
    }
   },
   "id": "4aca241d9648a278"
  },
  {
   "cell_type": "code",
   "execution_count": 44,
   "outputs": [
    {
     "name": "stdout",
     "output_type": "stream",
     "text": [
      "\n",
      "\n",
      "<div class=\"col-xs-12\">\n",
      "<section>\n",
      "<h2><span class=\"title\">Ordering</span></h2>\n",
      "<table class=\"add-to-cart-table table-striped table-condensed\" id=\"ordering-table\">\n",
      "<thead>\n",
      "<tr>\n",
      "<th>Item</th>\n",
      "<th>Catalog #</th>\n",
      "<th>Description</th>\n",
      "<th>Quantity</th>\n",
      "<th colspan=\"2\">Price (USD)</th>\n",
      "</tr>\n",
      "</thead>\n",
      "<tbody>\n",
      "<tr id=\"row-128041\">\n",
      "<td style=\"width: 7em;\">Plasmid</td>\n",
      "<td style=\"width: 7em;\">128041</td>\n",
      "<td>\n",
      "<span id=\"format-details-128041\"> Standard format: Plasmid sent in bacteria as agar stab </span>\n",
      "</td>\n",
      "<td class=\"text-center\" style=\"width: 5.25em;\">\n",
      "<span data-add-to-cart-quantity=\"1\" data-item-id=\"128041\">1</span>\n",
      "</td>\n",
      "<td class=\"text-left price-cell\" style=\"width: 5em;\">\n",
      "                \n",
      "                \n",
      "                \n",
      "                $<span data-item-id=\"128041\" data-marginal-price=\"\" data-marginal-price-item-data='{\"itemId\": \"128041\", \"bulkGroup\": \"1\", \"unitPrices\": [{\"minQuantity\": 1, \"bulkUnitPrice\": 85.0}, {\"minQuantity\": 6, \"bulkUnitPrice\": 85.0}, {\"minQuantity\": 21, \"bulkUnitPrice\": 85.0}], \"rider\": null}' id=\"marginal-price-128041\">85</span>\n",
      "</td>\n",
      "<td class=\"text-center\" id=\"add-to-cart-128041\" style=\"width: 6em;\">\n",
      "<!-- status: NO_USER_ACA_ITEM -->\n",
      "<div class=\"addgene-addtocart js-addtocart atc-popover atc-mini-popover\">\n",
      "<a class=\"btn btn-md btn-addgene-yellow btn-add-to-cart\" href=\"/users/login/?next=/128041/\" id=\"add-to-cart-link-128041\">\n",
      "        Add to Cart\n",
      "    </a>\n",
      "</div>\n",
      "</td>\n",
      "</tr>\n",
      "</tbody>\n",
      "</table>\n",
      "<p class=\"text-right\">\n",
      "<small>\n",
      "          This material is available to academics and nonprofits only.\n",
      "      </small>\n",
      "</p>\n",
      "</section>\n",
      "</div>\n",
      "\n",
      "\n",
      "<div class=\"col-xs-6\">\n",
      "<section>\n",
      "<h2><span class=\"title\">Backbone</span></h2>\n",
      "<ul class=\"list-unstyled\">\n",
      "<li class=\"field\">\n",
      "<div class=\"field-label\">Vector backbone</div>\n",
      "                        \n",
      "                        pBABE puro\n",
      "                        \n",
      "                        <div style=\"clear: left;\">\n",
      "<a href=\"/vector-database/query/?q_vdb=pBABE%20puro\" rel=\"noopener noreferrer\" target=\"_blank\"><span class=\"glyphicon glyphicon-new-window\"></span> (Search Vector Database)</a>\n",
      "</div>\n",
      "</li>\n",
      "<li class=\"field\">\n",
      "<div class=\"field-label\">Vector type</div>\n",
      "                        Mammalian Expression, Retroviral\n",
      "                    </li>\n",
      "<li class=\"field\">\n",
      "<span class=\"field-label\">\n",
      "        Tag\n",
      "        / Fusion Protein</span>\n",
      "<ul class=\"addgene-document-list\">\n",
      "<li>EGFP (N terminal on backbone)</li>\n",
      "</ul>\n",
      "</li>\n",
      "</ul>\n",
      "</section>\n",
      "<section>\n",
      "<h2><span class=\"title\">Growth in Bacteria</span></h2>\n",
      "<ul class=\"list-unstyled\">\n",
      "<li class=\"field\">\n",
      "<div class=\"field-label\">Bacterial Resistance(s)</div>\n",
      "                        Ampicillin, 100 μg/mL\n",
      "                    </li>\n",
      "<li class=\"field\" id=\"growth_temp_128041\">\n",
      "<div class=\"field-label\">Growth Temperature</div>\n",
      "                        37°C\n",
      "                    </li>\n",
      "<li class=\"field\">\n",
      "<div class=\"field-label\">Growth Strain(s)</div>\n",
      "                        NEB Stable\n",
      "                    </li>\n",
      "<li class=\"field\">\n",
      "<div class=\"field-label\">Copy number</div>\n",
      "                        High Copy\n",
      "                    </li>\n",
      "</ul>\n",
      "</section>\n",
      "</div>\n",
      "\n",
      "\n",
      "<div class=\"col-xs-6\">\n",
      "<section>\n",
      "<h2>\n",
      "<span class=\"title\">\n",
      "                        Gene/Insert\n",
      "                        \n",
      "                        \n",
      "                    </span>\n",
      "</h2>\n",
      "<ul class=\"list-unstyled\">\n",
      "<li class=\"field\">\n",
      "<div class=\"field-label\">Gene/Insert name</div>\n",
      "                        \n",
      "                        None\n",
      "                    </li>\n",
      "<li class=\"field\">\n",
      "<span class=\"field-label\">\n",
      "        Tag\n",
      "        / Fusion Protein</span>\n",
      "<ul class=\"addgene-document-list\">\n",
      "<li>EGFP (N terminal on backbone)</li>\n",
      "</ul>\n",
      "</li>\n",
      "</ul>\n",
      "</section>\n",
      "<section id=\"resource-information\">\n",
      "<h2><span class=\"title\">Resource Information</span></h2>\n",
      "<ul class=\"list-unstyled bottom-spacing-2\">\n",
      "<li class=\"field\">\n",
      "<div class=\"field-label\">Article Citing this Plasmid</div>\n",
      "<ul class=\"addgene-document-list\">\n",
      "<li><a href=\"/128041/citations/\">1 Reference</a></li>\n",
      "</ul>\n",
      "</li>\n",
      "</ul>\n",
      "</section>\n",
      "<section id=\"terms-and-licenses-section\">\n",
      "<h2><span class=\"title\">Terms and Licenses</span></h2>\n",
      "<ul class=\"list-unstyled\">\n",
      "<li class=\"field\">\n",
      "<div class=\"field-label\">Academic/Nonprofit Terms</div>\n",
      "<ul class=\"addgene-document-list\">\n",
      "<li><a href=\"/agreement/1/\">UBMTA</a></li>\n",
      "<li><a href=\"/terms/1099/\">Ancillary Agreement for Plasmids Containing FP Materials</a></li>\n",
      "</ul>\n",
      "</li>\n",
      "<li class=\"field\">\n",
      "<div class=\"field-label\">Industry Terms</div>\n",
      "<ul class=\"addgene-document-list\">\n",
      "<li>Not Available to Industry</li>\n",
      "</ul>\n",
      "</li>\n",
      "</ul>\n",
      "<div class=\"flatblock flatblock-third-party-trademarks\">\n",
      "<div class=\"flatblock-content\">\n",
      "<h5>Trademarks:</h5>\n",
      "<ul class=\"addgene-document-list\">\n",
      "<li>Zeocin® is an InvivoGen trademark.</li>\n",
      "</ul>\n",
      "</div>\n",
      "</div>\n",
      "</section>\n",
      "</div>\n"
     ]
    }
   ],
   "source": [
    "for i in plasmid_details:\n",
    "    print(i)"
   ],
   "metadata": {
    "collapsed": false,
    "ExecuteTime": {
     "end_time": "2023-08-06T00:26:39.812682Z",
     "start_time": "2023-08-06T00:26:39.792837Z"
    }
   },
   "id": "64d9b0d59475831d"
  },
  {
   "cell_type": "code",
   "execution_count": 78,
   "outputs": [],
   "source": [],
   "metadata": {
    "collapsed": false,
    "ExecuteTime": {
     "end_time": "2023-08-06T00:59:57.823082Z",
     "start_time": "2023-08-06T00:59:57.801053Z"
    }
   },
   "id": "4b1366e3fa919127"
  },
  {
   "cell_type": "code",
   "execution_count": 76,
   "outputs": [
    {
     "data": {
      "text/plain": "['\\n',\n <div class=\"field-label\">Vector backbone</div>,\n '\\n                        \\n                        pBABE puro\\n                        \\n                        ',\n <div style=\"clear: left;\">\n <a href=\"/vector-database/query/?q_vdb=pBABE%20puro\" rel=\"noopener noreferrer\" target=\"_blank\"><span class=\"glyphicon glyphicon-new-window\"></span> (Search Vector Database)</a>\n </div>,\n '\\n']"
     },
     "execution_count": 76,
     "metadata": {},
     "output_type": "execute_result"
    }
   ],
   "source": [],
   "metadata": {
    "collapsed": false,
    "ExecuteTime": {
     "end_time": "2023-08-06T00:58:09.469511Z",
     "start_time": "2023-08-06T00:58:09.452818Z"
    }
   },
   "id": "395a4039f72401b8"
  },
  {
   "cell_type": "code",
   "execution_count": 114,
   "outputs": [
    {
     "name": "stdout",
     "output_type": "stream",
     "text": [
      "{'Vector backbone': {'value': 'pBABE puro', 'href': '/vector-database/query/?q_vdb=pBABE%20puro'}, 'Vector type': {'value': 'Mammalian Expression, Retroviral', 'href': None}, '/ Fusion Protein': {'value': [], 'href': None}}\n",
      "{'Bacterial Resistance(s)': {'value': 'Ampicillin, 100 μg/mL', 'href': None}, 'Growth Temperature': {'value': '37°C', 'href': None}, 'Growth Strain(s)': {'value': 'NEB Stable', 'href': None}, 'Copy number': {'value': 'High Copy', 'href': None}}\n",
      "{'Gene/Insert name': {'value': 'None', 'href': None}, 'Tag/ Fusion Protein': {'value': [], 'href': None}}\n"
     ]
    }
   ],
   "source": [
    "def get_detail_section(title: str, sections):\n",
    "    for section in sections:\n",
    "        element_title = section.find(attrs={'class': 'title'})\n",
    "        if element_title.text.strip().lower() == title.lower():\n",
    "            return section\n",
    "\n",
    "def extract_string(tag) -> str:\n",
    "    for s in tag.children:\n",
    "        if type(s) == NavigableString:\n",
    "            if s == '\\n':\n",
    "                continue\n",
    "            return str(s).strip()\n",
    "\n",
    "def extract_detail_fields(section) -> {}:\n",
    "    fields = {}\n",
    "    for field_element in section.find_all(attrs={'class': 'field'}):\n",
    "        key = extract_string(field_element.find(attrs={'class': 'field-label'}))\n",
    "        value = extract_string(field_element)\n",
    "        # try extracting an array\n",
    "        if value is None:\n",
    "            element = field_element.find(attrs={'class': \"addgene-document-list\"})\n",
    "            if element:\n",
    "                value = [i.text for i in element.children]\n",
    "        \n",
    "        # attempt to grab the href\n",
    "        a = field_element.find('a')\n",
    "        if a:\n",
    "            href = a.attrs['href'].strip()\n",
    "        else:\n",
    "            href = None\n",
    "        \n",
    "        fields[key] = {'value': value, 'href': href}\n",
    "        \n",
    "    return fields\n",
    "\n",
    "\n",
    "detail_sections = ['backbone', 'growth in bacteria', 'gene/insert']\n",
    "sections = plasmid_details.find_all('section')\n",
    "for title in detail_sections:\n",
    "    chunk = get_detail_section(title, sections)\n",
    "    print(extract_detail_fields(chunk))\n"
   ],
   "metadata": {
    "collapsed": false,
    "ExecuteTime": {
     "end_time": "2023-08-06T02:03:35.364655Z",
     "start_time": "2023-08-06T02:03:35.348688Z"
    }
   },
   "id": "d40e3c8c78113fc3"
  },
  {
   "cell_type": "markdown",
   "source": [
    "# Redo desc"
   ],
   "metadata": {
    "collapsed": false
   },
   "id": "240ec37c8d6c01eb"
  },
  {
   "cell_type": "code",
   "execution_count": 132,
   "outputs": [
    {
     "name": "stdout",
     "output_type": "stream",
     "text": [
      "Purpose\n",
      "{'Purpose': {'value': '(Empty Backbone)Retroviral vector with N terminal EGFP', 'href': None}}\n",
      "Depositing Lab\n",
      "{'Depositing Lab': {'value': 'Oskar Laur', 'href': '/browse/pi/4513/'}}\n",
      "Publication\n",
      "{'Publication': {'value': 'Emory Custom Cloning Core Plasmids - Oskar Laur (unpublished)', 'href': '/browse/article/28203582/'}}\n",
      "Sequence Information\n",
      "{'Sequence Information': {'value': [{'value': 'Sequences (1)', 'href': '/128041/sequences/'}]}}\n"
     ]
    },
    {
     "ename": "AttributeError",
     "evalue": "'NoneType' object has no attribute 'text'",
     "output_type": "error",
     "traceback": [
      "\u001B[0;31m---------------------------------------------------------------------------\u001B[0m",
      "\u001B[0;31mAttributeError\u001B[0m                            Traceback (most recent call last)",
      "Cell \u001B[0;32mIn[132], line 28\u001B[0m\n\u001B[1;32m     25\u001B[0m         \u001B[38;5;28;01mreturn\u001B[39;00m {label: {\u001B[38;5;124m'\u001B[39m\u001B[38;5;124mvalue\u001B[39m\u001B[38;5;124m'\u001B[39m: value, \u001B[38;5;124m'\u001B[39m\u001B[38;5;124mhref\u001B[39m\u001B[38;5;124m'\u001B[39m: href}}\n\u001B[1;32m     27\u001B[0m \u001B[38;5;28;01mfor\u001B[39;00m field \u001B[38;5;129;01min\u001B[39;00m plasmid_desc\u001B[38;5;241m.\u001B[39mfind_all(attrs\u001B[38;5;241m=\u001B[39m{\u001B[38;5;124m'\u001B[39m\u001B[38;5;124mclass\u001B[39m\u001B[38;5;124m'\u001B[39m: \u001B[38;5;124m'\u001B[39m\u001B[38;5;124mfield\u001B[39m\u001B[38;5;124m'\u001B[39m}):\n\u001B[0;32m---> 28\u001B[0m     \u001B[38;5;28mprint\u001B[39m(\u001B[43mparse_field\u001B[49m\u001B[43m(\u001B[49m\u001B[43mfield\u001B[49m\u001B[43m)\u001B[49m)\n",
      "Cell \u001B[0;32mIn[132], line 2\u001B[0m, in \u001B[0;36mparse_field\u001B[0;34m(tag)\u001B[0m\n\u001B[1;32m      1\u001B[0m \u001B[38;5;28;01mdef\u001B[39;00m \u001B[38;5;21mparse_field\u001B[39m(tag: Tag) \u001B[38;5;241m-\u001B[39m\u001B[38;5;241m>\u001B[39m {}:\n\u001B[0;32m----> 2\u001B[0m     label \u001B[38;5;241m=\u001B[39m \u001B[43mtag\u001B[49m\u001B[38;5;241;43m.\u001B[39;49m\u001B[43mfind\u001B[49m\u001B[43m(\u001B[49m\u001B[43mattrs\u001B[49m\u001B[38;5;241;43m=\u001B[39;49m\u001B[43m{\u001B[49m\u001B[38;5;124;43m'\u001B[39;49m\u001B[38;5;124;43mclass\u001B[39;49m\u001B[38;5;124;43m'\u001B[39;49m\u001B[43m:\u001B[49m\u001B[43m \u001B[49m\u001B[38;5;124;43m'\u001B[39;49m\u001B[38;5;124;43mfield-label\u001B[39;49m\u001B[38;5;124;43m'\u001B[39;49m\u001B[43m}\u001B[49m\u001B[43m)\u001B[49m\u001B[38;5;241;43m.\u001B[39;49m\u001B[43mtext\u001B[49m\n\u001B[1;32m      3\u001B[0m     \u001B[38;5;28mprint\u001B[39m(label)\n\u001B[1;32m      4\u001B[0m     _content \u001B[38;5;241m=\u001B[39m tag\u001B[38;5;241m.\u001B[39mfind(attrs\u001B[38;5;241m=\u001B[39m{\u001B[38;5;124m'\u001B[39m\u001B[38;5;124mclass\u001B[39m\u001B[38;5;124m'\u001B[39m: \u001B[38;5;124m'\u001B[39m\u001B[38;5;124mfield-content\u001B[39m\u001B[38;5;124m'\u001B[39m})\n",
      "\u001B[0;31mAttributeError\u001B[0m: 'NoneType' object has no attribute 'text'"
     ]
    }
   ],
   "source": [
    "def parse_field(tag: Tag) -> {}:\n",
    "    label = tag.find(attrs={'class': 'field-label'}).text\n",
    "    print(label)\n",
    "    _content = tag.find(attrs={'class': 'field-content'})\n",
    "    # try extracting an array\n",
    "    if _content is None:\n",
    "        element = tag.find('ul')\n",
    "        \n",
    "        if element:\n",
    "            values = []\n",
    "            for i in element.children:\n",
    "                href = i.find('a').attrs['href']\n",
    "                values.append({'value': i.text, 'href': href})\n",
    "            return {label: {'value': values}}\n",
    "        print('this happened')\n",
    "            \n",
    "    else:\n",
    "        a = _content.find('a')\n",
    "        if a:\n",
    "            value = a.text\n",
    "            href = str(a['href'])\n",
    "        else:\n",
    "            value = _content.text\n",
    "            href = None\n",
    "        return {label: {'value': value, 'href': href}}\n",
    "\n",
    "for field in plasmid_desc.find_all(attrs={'class': 'field'}):\n",
    "    print(parse_field(field))\n"
   ],
   "metadata": {
    "collapsed": false,
    "ExecuteTime": {
     "end_time": "2023-08-06T02:37:06.005763Z",
     "start_time": "2023-08-06T02:37:05.972075Z"
    }
   },
   "id": "d7587e7c8edc6567"
  },
  {
   "cell_type": "code",
   "execution_count": 127,
   "outputs": [
    {
     "name": "stdout",
     "output_type": "stream",
     "text": [
      "{<div class=\"field-label\">Purpose</div>: {'value': '(Empty Backbone)Retroviral vector with N terminal EGFP', 'href': None}}\n",
      "{<div class=\"field-label\">Depositing Lab</div>: {'value': 'Oskar Laur', 'href': '/browse/pi/4513/'}}\n",
      "{<div class=\"field-label\">Publication</div>: {'value': 'Emory Custom Cloning Core Plasmids - Oskar Laur (unpublished)', 'href': '/browse/article/28203582/'}}\n",
      "{<div class=\"field-label\">Sequence Information</div>: {'value': [{'value': 'Sequences (1)', 'href': '/128041/sequences/'}]}}\n",
      "this happened\n",
      "None\n"
     ]
    }
   ],
   "source": [],
   "metadata": {
    "collapsed": false,
    "ExecuteTime": {
     "end_time": "2023-08-06T02:33:21.666998Z",
     "start_time": "2023-08-06T02:33:21.645247Z"
    }
   },
   "id": "ddd7e4b7688a577a"
  },
  {
   "cell_type": "code",
   "execution_count": null,
   "outputs": [],
   "source": [],
   "metadata": {
    "collapsed": false
   },
   "id": "5f8d0501db2ded8f"
  }
 ],
 "metadata": {
  "kernelspec": {
   "display_name": "Python 3",
   "language": "python",
   "name": "python3"
  },
  "language_info": {
   "codemirror_mode": {
    "name": "ipython",
    "version": 2
   },
   "file_extension": ".py",
   "mimetype": "text/x-python",
   "name": "python",
   "nbconvert_exporter": "python",
   "pygments_lexer": "ipython2",
   "version": "2.7.6"
  }
 },
 "nbformat": 4,
 "nbformat_minor": 5
}
